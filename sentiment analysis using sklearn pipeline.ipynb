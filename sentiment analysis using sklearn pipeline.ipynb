{
 "cells": [
  {
   "cell_type": "code",
   "execution_count": 1,
   "id": "5256d32e",
   "metadata": {},
   "outputs": [],
   "source": [
    "import numpy as np \n",
    "import pandas as pd "
   ]
  },
  {
   "cell_type": "code",
   "execution_count": 2,
   "id": "fb22c152",
   "metadata": {},
   "outputs": [
    {
     "data": {
      "text/html": [
       "<div>\n",
       "<style scoped>\n",
       "    .dataframe tbody tr th:only-of-type {\n",
       "        vertical-align: middle;\n",
       "    }\n",
       "\n",
       "    .dataframe tbody tr th {\n",
       "        vertical-align: top;\n",
       "    }\n",
       "\n",
       "    .dataframe thead th {\n",
       "        text-align: right;\n",
       "    }\n",
       "</style>\n",
       "<table border=\"1\" class=\"dataframe\">\n",
       "  <thead>\n",
       "    <tr style=\"text-align: right;\">\n",
       "      <th></th>\n",
       "      <th>rating</th>\n",
       "      <th>date</th>\n",
       "      <th>variation</th>\n",
       "      <th>verified_reviews</th>\n",
       "      <th>feedback</th>\n",
       "    </tr>\n",
       "  </thead>\n",
       "  <tbody>\n",
       "    <tr>\n",
       "      <th>0</th>\n",
       "      <td>5</td>\n",
       "      <td>31-Jul-18</td>\n",
       "      <td>Charcoal Fabric</td>\n",
       "      <td>Love my Echo!</td>\n",
       "      <td>1</td>\n",
       "    </tr>\n",
       "    <tr>\n",
       "      <th>1</th>\n",
       "      <td>5</td>\n",
       "      <td>31-Jul-18</td>\n",
       "      <td>Charcoal Fabric</td>\n",
       "      <td>Loved it!</td>\n",
       "      <td>1</td>\n",
       "    </tr>\n",
       "    <tr>\n",
       "      <th>2</th>\n",
       "      <td>4</td>\n",
       "      <td>31-Jul-18</td>\n",
       "      <td>Walnut Finish</td>\n",
       "      <td>Sometimes while playing a game, you can answer...</td>\n",
       "      <td>1</td>\n",
       "    </tr>\n",
       "    <tr>\n",
       "      <th>3</th>\n",
       "      <td>5</td>\n",
       "      <td>31-Jul-18</td>\n",
       "      <td>Charcoal Fabric</td>\n",
       "      <td>I have had a lot of fun with this thing. My 4 ...</td>\n",
       "      <td>1</td>\n",
       "    </tr>\n",
       "    <tr>\n",
       "      <th>4</th>\n",
       "      <td>5</td>\n",
       "      <td>31-Jul-18</td>\n",
       "      <td>Charcoal Fabric</td>\n",
       "      <td>Music</td>\n",
       "      <td>1</td>\n",
       "    </tr>\n",
       "    <tr>\n",
       "      <th>...</th>\n",
       "      <td>...</td>\n",
       "      <td>...</td>\n",
       "      <td>...</td>\n",
       "      <td>...</td>\n",
       "      <td>...</td>\n",
       "    </tr>\n",
       "    <tr>\n",
       "      <th>3145</th>\n",
       "      <td>5</td>\n",
       "      <td>30-Jul-18</td>\n",
       "      <td>Black  Dot</td>\n",
       "      <td>Perfect for kids, adults and everyone in betwe...</td>\n",
       "      <td>1</td>\n",
       "    </tr>\n",
       "    <tr>\n",
       "      <th>3146</th>\n",
       "      <td>5</td>\n",
       "      <td>30-Jul-18</td>\n",
       "      <td>Black  Dot</td>\n",
       "      <td>Listening to music, searching locations, check...</td>\n",
       "      <td>1</td>\n",
       "    </tr>\n",
       "    <tr>\n",
       "      <th>3147</th>\n",
       "      <td>5</td>\n",
       "      <td>30-Jul-18</td>\n",
       "      <td>Black  Dot</td>\n",
       "      <td>I do love these things, i have them running my...</td>\n",
       "      <td>1</td>\n",
       "    </tr>\n",
       "    <tr>\n",
       "      <th>3148</th>\n",
       "      <td>5</td>\n",
       "      <td>30-Jul-18</td>\n",
       "      <td>White  Dot</td>\n",
       "      <td>Only complaint I have is that the sound qualit...</td>\n",
       "      <td>1</td>\n",
       "    </tr>\n",
       "    <tr>\n",
       "      <th>3149</th>\n",
       "      <td>4</td>\n",
       "      <td>29-Jul-18</td>\n",
       "      <td>Black  Dot</td>\n",
       "      <td>Good</td>\n",
       "      <td>1</td>\n",
       "    </tr>\n",
       "  </tbody>\n",
       "</table>\n",
       "<p>3150 rows × 5 columns</p>\n",
       "</div>"
      ],
      "text/plain": [
       "      rating       date         variation  \\\n",
       "0          5  31-Jul-18  Charcoal Fabric    \n",
       "1          5  31-Jul-18  Charcoal Fabric    \n",
       "2          4  31-Jul-18    Walnut Finish    \n",
       "3          5  31-Jul-18  Charcoal Fabric    \n",
       "4          5  31-Jul-18  Charcoal Fabric    \n",
       "...      ...        ...               ...   \n",
       "3145       5  30-Jul-18        Black  Dot   \n",
       "3146       5  30-Jul-18        Black  Dot   \n",
       "3147       5  30-Jul-18        Black  Dot   \n",
       "3148       5  30-Jul-18        White  Dot   \n",
       "3149       4  29-Jul-18        Black  Dot   \n",
       "\n",
       "                                       verified_reviews  feedback  \n",
       "0                                         Love my Echo!         1  \n",
       "1                                             Loved it!         1  \n",
       "2     Sometimes while playing a game, you can answer...         1  \n",
       "3     I have had a lot of fun with this thing. My 4 ...         1  \n",
       "4                                                 Music         1  \n",
       "...                                                 ...       ...  \n",
       "3145  Perfect for kids, adults and everyone in betwe...         1  \n",
       "3146  Listening to music, searching locations, check...         1  \n",
       "3147  I do love these things, i have them running my...         1  \n",
       "3148  Only complaint I have is that the sound qualit...         1  \n",
       "3149                                               Good         1  \n",
       "\n",
       "[3150 rows x 5 columns]"
      ]
     },
     "execution_count": 2,
     "metadata": {},
     "output_type": "execute_result"
    }
   ],
   "source": [
    "#loading the dataset \n",
    "dump = pd.read_csv('AmazonAlexa_ReviewsDataset.tsv',sep='\\t')\n",
    "dump"
   ]
  },
  {
   "cell_type": "markdown",
   "id": "27074a7a",
   "metadata": {},
   "source": [
    "### Data Pre-Processing "
   ]
  },
  {
   "cell_type": "code",
   "execution_count": 3,
   "id": "591048ef",
   "metadata": {},
   "outputs": [
    {
     "data": {
      "text/html": [
       "<div>\n",
       "<style scoped>\n",
       "    .dataframe tbody tr th:only-of-type {\n",
       "        vertical-align: middle;\n",
       "    }\n",
       "\n",
       "    .dataframe tbody tr th {\n",
       "        vertical-align: top;\n",
       "    }\n",
       "\n",
       "    .dataframe thead th {\n",
       "        text-align: right;\n",
       "    }\n",
       "</style>\n",
       "<table border=\"1\" class=\"dataframe\">\n",
       "  <thead>\n",
       "    <tr style=\"text-align: right;\">\n",
       "      <th></th>\n",
       "      <th>Reviews</th>\n",
       "      <th>Sentiment</th>\n",
       "    </tr>\n",
       "  </thead>\n",
       "  <tbody>\n",
       "    <tr>\n",
       "      <th>0</th>\n",
       "      <td>Love my Echo!</td>\n",
       "      <td>5</td>\n",
       "    </tr>\n",
       "    <tr>\n",
       "      <th>1</th>\n",
       "      <td>Loved it!</td>\n",
       "      <td>5</td>\n",
       "    </tr>\n",
       "    <tr>\n",
       "      <th>2</th>\n",
       "      <td>Sometimes while playing a game, you can answer...</td>\n",
       "      <td>4</td>\n",
       "    </tr>\n",
       "    <tr>\n",
       "      <th>3</th>\n",
       "      <td>I have had a lot of fun with this thing. My 4 ...</td>\n",
       "      <td>5</td>\n",
       "    </tr>\n",
       "    <tr>\n",
       "      <th>4</th>\n",
       "      <td>Music</td>\n",
       "      <td>5</td>\n",
       "    </tr>\n",
       "  </tbody>\n",
       "</table>\n",
       "</div>"
      ],
      "text/plain": [
       "                                             Reviews  Sentiment\n",
       "0                                      Love my Echo!          5\n",
       "1                                          Loved it!          5\n",
       "2  Sometimes while playing a game, you can answer...          4\n",
       "3  I have had a lot of fun with this thing. My 4 ...          5\n",
       "4                                              Music          5"
      ]
     },
     "execution_count": 3,
     "metadata": {},
     "output_type": "execute_result"
    }
   ],
   "source": [
    "#keeping comlumns of our interest \n",
    "dataset = dump[['verified_reviews','rating']]\n",
    "dataset.columns=['Reviews','Sentiment']\n",
    "dataset.head()"
   ]
  },
  {
   "cell_type": "code",
   "execution_count": 4,
   "id": "11e93e1e",
   "metadata": {},
   "outputs": [],
   "source": [
    "#creating a new column sentiment based on overall ratings \n",
    "def compute_sentiments(labels):\n",
    "    sentiments = []\n",
    "    for label in labels:\n",
    "        if label>3.0:\n",
    "            sentiment=1\n",
    "        elif label<=3.0:\n",
    "            sentiment=0\n",
    "        sentiments.append(sentiment)\n",
    "    return sentiments "
   ]
  },
  {
   "cell_type": "code",
   "execution_count": 5,
   "id": "3b7a7abb",
   "metadata": {},
   "outputs": [
    {
     "name": "stderr",
     "output_type": "stream",
     "text": [
      "C:\\Users\\HARSEES KAUR\\AppData\\Local\\Temp\\ipykernel_22872\\697463642.py:1: SettingWithCopyWarning: \n",
      "A value is trying to be set on a copy of a slice from a DataFrame.\n",
      "Try using .loc[row_indexer,col_indexer] = value instead\n",
      "\n",
      "See the caveats in the documentation: https://pandas.pydata.org/pandas-docs/stable/user_guide/indexing.html#returning-a-view-versus-a-copy\n",
      "  dataset['Sentiment']= compute_sentiments(dataset.Sentiment)\n"
     ]
    }
   ],
   "source": [
    "dataset['Sentiment']= compute_sentiments(dataset.Sentiment)"
   ]
  },
  {
   "cell_type": "code",
   "execution_count": 6,
   "id": "b6532a7d",
   "metadata": {},
   "outputs": [
    {
     "data": {
      "text/html": [
       "<div>\n",
       "<style scoped>\n",
       "    .dataframe tbody tr th:only-of-type {\n",
       "        vertical-align: middle;\n",
       "    }\n",
       "\n",
       "    .dataframe tbody tr th {\n",
       "        vertical-align: top;\n",
       "    }\n",
       "\n",
       "    .dataframe thead th {\n",
       "        text-align: right;\n",
       "    }\n",
       "</style>\n",
       "<table border=\"1\" class=\"dataframe\">\n",
       "  <thead>\n",
       "    <tr style=\"text-align: right;\">\n",
       "      <th></th>\n",
       "      <th>Reviews</th>\n",
       "      <th>Sentiment</th>\n",
       "    </tr>\n",
       "  </thead>\n",
       "  <tbody>\n",
       "    <tr>\n",
       "      <th>0</th>\n",
       "      <td>Love my Echo!</td>\n",
       "      <td>1</td>\n",
       "    </tr>\n",
       "    <tr>\n",
       "      <th>1</th>\n",
       "      <td>Loved it!</td>\n",
       "      <td>1</td>\n",
       "    </tr>\n",
       "    <tr>\n",
       "      <th>2</th>\n",
       "      <td>Sometimes while playing a game, you can answer...</td>\n",
       "      <td>1</td>\n",
       "    </tr>\n",
       "    <tr>\n",
       "      <th>3</th>\n",
       "      <td>I have had a lot of fun with this thing. My 4 ...</td>\n",
       "      <td>1</td>\n",
       "    </tr>\n",
       "    <tr>\n",
       "      <th>4</th>\n",
       "      <td>Music</td>\n",
       "      <td>1</td>\n",
       "    </tr>\n",
       "    <tr>\n",
       "      <th>...</th>\n",
       "      <td>...</td>\n",
       "      <td>...</td>\n",
       "    </tr>\n",
       "    <tr>\n",
       "      <th>3145</th>\n",
       "      <td>Perfect for kids, adults and everyone in betwe...</td>\n",
       "      <td>1</td>\n",
       "    </tr>\n",
       "    <tr>\n",
       "      <th>3146</th>\n",
       "      <td>Listening to music, searching locations, check...</td>\n",
       "      <td>1</td>\n",
       "    </tr>\n",
       "    <tr>\n",
       "      <th>3147</th>\n",
       "      <td>I do love these things, i have them running my...</td>\n",
       "      <td>1</td>\n",
       "    </tr>\n",
       "    <tr>\n",
       "      <th>3148</th>\n",
       "      <td>Only complaint I have is that the sound qualit...</td>\n",
       "      <td>1</td>\n",
       "    </tr>\n",
       "    <tr>\n",
       "      <th>3149</th>\n",
       "      <td>Good</td>\n",
       "      <td>1</td>\n",
       "    </tr>\n",
       "  </tbody>\n",
       "</table>\n",
       "<p>3150 rows × 2 columns</p>\n",
       "</div>"
      ],
      "text/plain": [
       "                                                Reviews  Sentiment\n",
       "0                                         Love my Echo!          1\n",
       "1                                             Loved it!          1\n",
       "2     Sometimes while playing a game, you can answer...          1\n",
       "3     I have had a lot of fun with this thing. My 4 ...          1\n",
       "4                                                 Music          1\n",
       "...                                                 ...        ...\n",
       "3145  Perfect for kids, adults and everyone in betwe...          1\n",
       "3146  Listening to music, searching locations, check...          1\n",
       "3147  I do love these things, i have them running my...          1\n",
       "3148  Only complaint I have is that the sound qualit...          1\n",
       "3149                                               Good          1\n",
       "\n",
       "[3150 rows x 2 columns]"
      ]
     },
     "execution_count": 6,
     "metadata": {},
     "output_type": "execute_result"
    }
   ],
   "source": [
    "dataset"
   ]
  },
  {
   "cell_type": "code",
   "execution_count": 7,
   "id": "3ff76155",
   "metadata": {},
   "outputs": [
    {
     "data": {
      "text/plain": [
       "1    2741\n",
       "0     409\n",
       "Name: Sentiment, dtype: int64"
      ]
     },
     "execution_count": 7,
     "metadata": {},
     "output_type": "execute_result"
    }
   ],
   "source": [
    "#check the distribution of sentiments \n",
    "dataset['Sentiment'].value_counts()"
   ]
  },
  {
   "cell_type": "markdown",
   "id": "a491378b",
   "metadata": {},
   "source": [
    "Interpretation - there are more positive values \n"
   ]
  },
  {
   "cell_type": "code",
   "execution_count": 8,
   "id": "09859649",
   "metadata": {},
   "outputs": [
    {
     "data": {
      "text/plain": [
       "Reviews      0\n",
       "Sentiment    0\n",
       "dtype: int64"
      ]
     },
     "execution_count": 8,
     "metadata": {},
     "output_type": "execute_result"
    }
   ],
   "source": [
    "#checl for null values\n",
    "dataset.isnull().sum()"
   ]
  },
  {
   "cell_type": "markdown",
   "id": "639c34c3",
   "metadata": {},
   "source": [
    "Interpretation - none null values "
   ]
  },
  {
   "cell_type": "markdown",
   "id": "ac3ef353",
   "metadata": {},
   "source": [
    "### Data Transformation "
   ]
  },
  {
   "cell_type": "code",
   "execution_count": 9,
   "id": "d8b673bc",
   "metadata": {},
   "outputs": [],
   "source": [
    "x= dataset['Reviews']\n",
    "y= dataset['Sentiment']"
   ]
  },
  {
   "cell_type": "code",
   "execution_count": 10,
   "id": "f1c75cdc",
   "metadata": {},
   "outputs": [
    {
     "name": "stdout",
     "output_type": "stream",
     "text": [
      "\u001b[38;5;2m✔ Download and installation successful\u001b[0m\n",
      "You can now load the package via spacy.load('en_core_web_sm')\n"
     ]
    }
   ],
   "source": [
    "import spacy.cli\n",
    "spacy.cli.download(\"en_core_web_sm\")"
   ]
  },
  {
   "cell_type": "code",
   "execution_count": 11,
   "id": "4cb01464",
   "metadata": {},
   "outputs": [],
   "source": [
    "from customize_tokenizer_function import CustomTokenizer"
   ]
  },
  {
   "cell_type": "code",
   "execution_count": 12,
   "id": "d579039d",
   "metadata": {},
   "outputs": [
    {
     "data": {
      "text/plain": [
       "['good', 'day', 'life']"
      ]
     },
     "execution_count": 12,
     "metadata": {},
     "output_type": "execute_result"
    }
   ],
   "source": [
    "#testing \n",
    "token = CustomTokenizer()\n",
    "token.text_data_cleaning(\"Those were the best Days of my life!\")"
   ]
  },
  {
   "cell_type": "markdown",
   "id": "6ae2c5b7",
   "metadata": {},
   "source": [
    "So, here some components are dropped and we only get words that carry some meaning "
   ]
  },
  {
   "cell_type": "markdown",
   "id": "ab3ac530",
   "metadata": {},
   "source": [
    "#### Now to convert these components into vector form \n",
    "### Feature Engineering (TF-IDF)"
   ]
  },
  {
   "cell_type": "code",
   "execution_count": 13,
   "id": "d053c21c",
   "metadata": {},
   "outputs": [],
   "source": [
    "from sklearn.feature_extraction.text import TfidfVectorizer "
   ]
  },
  {
   "cell_type": "code",
   "execution_count": 14,
   "id": "fcc74e38",
   "metadata": {},
   "outputs": [],
   "source": [
    "#single transofrmer in the pipeline \n",
    "tfidf = TfidfVectorizer(tokenizer= token.text_data_cleaning)"
   ]
  },
  {
   "cell_type": "markdown",
   "id": "eb6bf815",
   "metadata": {},
   "source": [
    "## Train the model \n",
    "### Train/Test Split "
   ]
  },
  {
   "cell_type": "code",
   "execution_count": 15,
   "id": "0e98cc41",
   "metadata": {},
   "outputs": [],
   "source": [
    "from sklearn.model_selection import train_test_split \n",
    "x_train,x_test,y_train,y_test = train_test_split(x,y, test_size = 0.2, stratify = dataset.Sentiment, random_state=0)"
   ]
  },
  {
   "cell_type": "code",
   "execution_count": 16,
   "id": "97029d19",
   "metadata": {},
   "outputs": [
    {
     "data": {
      "text/plain": [
       "((2520,), (630,))"
      ]
     },
     "execution_count": 16,
     "metadata": {},
     "output_type": "execute_result"
    }
   ],
   "source": [
    "x_train.shape, x_test.shape"
   ]
  },
  {
   "cell_type": "markdown",
   "id": "72eee5ba",
   "metadata": {},
   "source": [
    "2520 samples - training dataset, 630 - test dataset "
   ]
  },
  {
   "cell_type": "markdown",
   "id": "417975ca",
   "metadata": {},
   "source": [
    "## Fit our sentiment analysis model pipeline to the training data \n",
    "### Fit x_train and y_train"
   ]
  },
  {
   "cell_type": "code",
   "execution_count": 17,
   "id": "8416a6b8",
   "metadata": {},
   "outputs": [],
   "source": [
    "from sklearn.svm import LinearSVC \n",
    "from sklearn.pipeline import Pipeline "
   ]
  },
  {
   "cell_type": "code",
   "execution_count": 18,
   "id": "100236e8",
   "metadata": {},
   "outputs": [],
   "source": [
    "#classifier of the pipeline \n",
    "classifier = LinearSVC()"
   ]
  },
  {
   "cell_type": "code",
   "execution_count": 19,
   "id": "e8532e48",
   "metadata": {},
   "outputs": [],
   "source": [
    "#it will first do vectorization then classification\n",
    "pipeline = Pipeline([('tfidf',tfidf),('clf',classifier)])"
   ]
  },
  {
   "cell_type": "code",
   "execution_count": 20,
   "id": "11c14220",
   "metadata": {},
   "outputs": [
    {
     "data": {
      "text/plain": [
       "Pipeline(steps=[('tfidf',\n",
       "                 TfidfVectorizer(tokenizer=<bound method CustomTokenizer.text_data_cleaning of <customize_tokenizer_function.CustomTokenizer object at 0x0000020C9D6D31F0>>)),\n",
       "                ('clf', LinearSVC())])"
      ]
     },
     "execution_count": 20,
     "metadata": {},
     "output_type": "execute_result"
    }
   ],
   "source": [
    "pipeline.fit(x_train,y_train)"
   ]
  },
  {
   "cell_type": "markdown",
   "id": "ea585ae1",
   "metadata": {},
   "source": [
    "## Check Model Performance "
   ]
  },
  {
   "cell_type": "code",
   "execution_count": 21,
   "id": "98277af1",
   "metadata": {},
   "outputs": [],
   "source": [
    "y_predic = pipeline.predict(x_test)"
   ]
  },
  {
   "cell_type": "code",
   "execution_count": 22,
   "id": "64b718bb",
   "metadata": {},
   "outputs": [],
   "source": [
    "from sklearn.metrics import accuracy_score, classification_report, confusion_matrix"
   ]
  },
  {
   "cell_type": "code",
   "execution_count": 23,
   "id": "d820ae03",
   "metadata": {},
   "outputs": [
    {
     "data": {
      "text/plain": [
       "array([[ 37,  45],\n",
       "       [ 11, 537]], dtype=int64)"
      ]
     },
     "execution_count": 23,
     "metadata": {},
     "output_type": "execute_result"
    }
   ],
   "source": [
    "#confusion_matrix\n",
    "confusion_matrix(y_test,y_predic)"
   ]
  },
  {
   "cell_type": "code",
   "execution_count": 24,
   "id": "94c71340",
   "metadata": {},
   "outputs": [
    {
     "name": "stdout",
     "output_type": "stream",
     "text": [
      "              precision    recall  f1-score   support\n",
      "\n",
      "           0       0.77      0.45      0.57        82\n",
      "           1       0.92      0.98      0.95       548\n",
      "\n",
      "    accuracy                           0.91       630\n",
      "   macro avg       0.85      0.72      0.76       630\n",
      "weighted avg       0.90      0.91      0.90       630\n",
      "\n"
     ]
    }
   ],
   "source": [
    "#classification_report\n",
    "print(classification_report(y_test,y_predic))"
   ]
  },
  {
   "cell_type": "markdown",
   "id": "a757f42b",
   "metadata": {},
   "source": [
    "Interpretation - 91% accuracy "
   ]
  },
  {
   "cell_type": "code",
   "execution_count": 25,
   "id": "ec6447a9",
   "metadata": {},
   "outputs": [
    {
     "data": {
      "text/plain": [
       "91.11"
      ]
     },
     "execution_count": 25,
     "metadata": {},
     "output_type": "execute_result"
    }
   ],
   "source": [
    "round(accuracy_score(y_test,y_predic)*100,2)"
   ]
  },
  {
   "cell_type": "markdown",
   "id": "f2b663c2",
   "metadata": {},
   "source": [
    "## Model Serialization"
   ]
  },
  {
   "cell_type": "code",
   "execution_count": 26,
   "id": "5d9d146a",
   "metadata": {},
   "outputs": [
    {
     "data": {
      "text/plain": [
       "['sentiment_model.pkl']"
      ]
     },
     "execution_count": 26,
     "metadata": {},
     "output_type": "execute_result"
    }
   ],
   "source": [
    "import joblib \n",
    "joblib.dump(pipeline,'sentiment_model.pkl')"
   ]
  },
  {
   "cell_type": "markdown",
   "id": "39be5dfd",
   "metadata": {},
   "source": [
    "## Predicting sentiments using Model "
   ]
  },
  {
   "cell_type": "markdown",
   "id": "a9a447a8",
   "metadata": {},
   "source": [
    "Simple way "
   ]
  },
  {
   "cell_type": "code",
   "execution_count": 27,
   "id": "4190a68e",
   "metadata": {},
   "outputs": [],
   "source": [
    "#to print output in bold \n",
    "class color:\n",
    "   PURPLE = '\\033[95m'\n",
    "   CYAN = '\\033[96m'\n",
    "   DARKCYAN = '\\033[36m'\n",
    "   BLUE = '\\033[94m'\n",
    "   GREEN = '\\033[92m'\n",
    "   YELLOW = '\\033[93m'\n",
    "   RED = '\\033[91m'\n",
    "   BOLD = '\\033[1m'\n",
    "   UNDERLINE = '\\033[4m'\n",
    "   END = '\\033[0m'"
   ]
  },
  {
   "cell_type": "code",
   "execution_count": 28,
   "id": "edcb0087",
   "metadata": {},
   "outputs": [
    {
     "name": "stdout",
     "output_type": "stream",
     "text": [
      "\u001b[1mNEGATIVE REVIEW\u001b[0m\n"
     ]
    }
   ],
   "source": [
    "prediction = pipeline.predict([\"alexa is very bad\"])\n",
    "\n",
    "if prediction ==1:\n",
    "    print(color.BOLD+\"POSITIVE REVIEW\"+color.END)\n",
    "else:\n",
    "    print(color.BOLD+\"NEGATIVE REVIEW\"+color.END)"
   ]
  },
  {
   "cell_type": "markdown",
   "id": "2053d10c",
   "metadata": {},
   "source": [
    "Another sophisticated way "
   ]
  },
  {
   "cell_type": "code",
   "execution_count": 30,
   "id": "02453190",
   "metadata": {},
   "outputs": [
    {
     "name": "stdout",
     "output_type": "stream",
     "text": [
      "what is your review on Alexa\n",
      "alexa is stupid\n",
      "\u001b[1mThe customer's review is NEGATIVE\n",
      "\n",
      "\u001b[0m\n",
      "what is your review on Alexa\n",
      "alexa is bad\n",
      "\u001b[1mThe customer's review is NEGATIVE\n",
      "\n",
      "\u001b[0m\n",
      "what is your review on Alexa\n",
      "skip\n",
      "see you soon :) \n"
     ]
    }
   ],
   "source": [
    "new_review=[]\n",
    "pred_sentiment=[]\n",
    "\n",
    "while True:\n",
    "    review = input(\"what is your review on Alexa\\n\")\n",
    "    \n",
    "    if review == 'skip':\n",
    "        print(\"see you soon :) \")\n",
    "        break \n",
    "    else:\n",
    "        prediction = pipeline.predict([review])\n",
    "        \n",
    "    if prediction == 1:\n",
    "        result = 'POSITIVE'\n",
    "        print(color.BOLD+\"The customer's review is POSITIVE\\n\\n\"+color.END)\n",
    "    else:\n",
    "        result = 'NEGATIVE'\n",
    "        print(color.BOLD+\"The customer's review is NEGATIVE\\n\\n\"+color.END)\n",
    "        \n",
    "    new_review.append(review)\n",
    "    pred_sentiment.append(result)"
   ]
  },
  {
   "cell_type": "code",
   "execution_count": null,
   "id": "e4ff88b3",
   "metadata": {},
   "outputs": [],
   "source": [
    "Results_summary = pd.DataFrame({'New Review': new_review,\n",
    "                               'Sentiment': pred_sentiment\n",
    "                               })\n",
    "Results_summary.to_csv(\"./alexa_reviews_dataset.tsv\", sep='\\t', encoding='UTF-8', index=False)\n",
    "Results_summary"
   ]
  },
  {
   "cell_type": "markdown",
   "id": "9daf2467",
   "metadata": {},
   "source": [
    "### Model Deployment - using Flask "
   ]
  },
  {
   "cell_type": "code",
   "execution_count": null,
   "id": "b9775df1",
   "metadata": {},
   "outputs": [],
   "source": [
    "showing you in a few seconds !!!!!!!"
   ]
  }
 ],
 "metadata": {
  "kernelspec": {
   "display_name": "Python 3 (ipykernel)",
   "language": "python",
   "name": "python3"
  },
  "language_info": {
   "codemirror_mode": {
    "name": "ipython",
    "version": 3
   },
   "file_extension": ".py",
   "mimetype": "text/x-python",
   "name": "python",
   "nbconvert_exporter": "python",
   "pygments_lexer": "ipython3",
   "version": "3.9.13"
  }
 },
 "nbformat": 4,
 "nbformat_minor": 5
}
